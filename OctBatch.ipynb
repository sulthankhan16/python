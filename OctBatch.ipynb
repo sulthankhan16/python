{
 "cells": [
  {
   "cell_type": "code",
   "execution_count": 3,
   "id": "8cfe08d1-2b47-4975-90db-df495f41bd09",
   "metadata": {},
   "outputs": [],
   "source": [
    "sname='Pradeep'\n",
    "age=23\n",
    "#print('{} Age is {}'.format(sname,age))"
   ]
  },
  {
   "cell_type": "code",
   "execution_count": 9,
   "id": "e0e0d620-45be-419c-93bc-8b7973f2ed52",
   "metadata": {},
   "outputs": [
    {
     "name": "stdout",
     "output_type": "stream",
     "text": [
      "Pradeep My name is 23\n"
     ]
    }
   ],
   "source": [
    "print('{} My name is {}'.format(sname,age))"
   ]
  },
  {
   "cell_type": "code",
   "execution_count": 44,
   "id": "bee382aa-726a-447b-bba7-4046cd1d2b02",
   "metadata": {},
   "outputs": [],
   "source": [
    "salary=True"
   ]
  },
  {
   "cell_type": "code",
   "execution_count": 38,
   "id": "20c87969-b930-4e8a-b01a-d0a25ec3f192",
   "metadata": {},
   "outputs": [
    {
     "name": "stdout",
     "output_type": "stream",
     "text": [
      "Azs\n"
     ]
    }
   ],
   "source": [
    "cname='Amazons'\n",
    "print(cname[0:7:3])"
   ]
  },
  {
   "cell_type": "code",
   "execution_count": 45,
   "id": "36d78994-5e77-4704-b438-27d97015ff2d",
   "metadata": {},
   "outputs": [
    {
     "name": "stdout",
     "output_type": "stream",
     "text": [
      "<class 'bool'>\n"
     ]
    }
   ],
   "source": [
    "print(type(salary))"
   ]
  },
  {
   "cell_type": "code",
   "execution_count": 60,
   "id": "c2170b6b-a7c2-4e31-a252-fab14b40d45e",
   "metadata": {},
   "outputs": [
    {
     "name": "stdout",
     "output_type": "stream",
     "text": [
      "4\n"
     ]
    }
   ],
   "source": [
    "#TypeError SOlved\n",
    "x=2\n",
    "y='2'\n",
    "y=int(y)\n",
    "print(x+y)"
   ]
  },
  {
   "cell_type": "code",
   "execution_count": 50,
   "id": "d13f6a0d-c209-431b-b19d-f34d1812a593",
   "metadata": {},
   "outputs": [
    {
     "name": "stdout",
     "output_type": "stream",
     "text": [
      "Hello\n"
     ]
    }
   ],
   "source": [
    "'''\n",
    "This\n",
    "is\n",
    "multi\n",
    "line\n",
    "comment\n",
    "'''\n",
    "print('Hello')"
   ]
  },
  {
   "cell_type": "code",
   "execution_count": 65,
   "id": "9a18cba6-7896-4d47-bcd7-bec2dfe24201",
   "metadata": {},
   "outputs": [
    {
     "name": "stdin",
     "output_type": "stream",
     "text": [
      "Enter your age : 34.5\n"
     ]
    },
    {
     "name": "stdout",
     "output_type": "stream",
     "text": [
      "My age is 34.5\n",
      "<class 'float'>\n"
     ]
    }
   ],
   "source": [
    "age=int(input()) #Default format is String\n",
    "print('My age is',age)\n",
    "print(type(age))"
   ]
  },
  {
   "cell_type": "code",
   "execution_count": 56,
   "id": "c02b7601-0d58-4fc4-b904-5f5cee59081c",
   "metadata": {},
   "outputs": [
    {
     "name": "stdout",
     "output_type": "stream",
     "text": [
      "<class 'int'>\n"
     ]
    }
   ],
   "source": [
    "age=int('56')\n",
    "age1=int(age)"
   ]
  },
  {
   "cell_type": "code",
   "execution_count": 8,
   "id": "99fc2d1f-9099-4039-beb0-8366ed7209f6",
   "metadata": {},
   "outputs": [
    {
     "name": "stdout",
     "output_type": "stream",
     "text": [
      "snozamA\n"
     ]
    }
   ],
   "source": [
    "cname='Amazons'\n",
    "print(cname[::-1])"
   ]
  },
  {
   "cell_type": "code",
   "execution_count": 9,
   "id": "6fcab955-00e6-4de1-b5c5-72c9e79585b2",
   "metadata": {},
   "outputs": [
    {
     "name": "stdout",
     "output_type": "stream",
     "text": [
      "['Vermiciles', 'Flour', 'Shaving Cream', 'Bread', 'Butter']\n"
     ]
    }
   ],
   "source": [
    "#Data Structures\n",
    "\n",
    "#List :\n",
    "lst=['Butter','Bread','Shaving Cream','Flour','Vermiciles']\n",
    "#Reverse List\n",
    "print(lst[::-1])\n"
   ]
  },
  {
   "cell_type": "code",
   "execution_count": 10,
   "id": "28610891-9a6a-46ed-9538-f1ecef9fff9f",
   "metadata": {},
   "outputs": [],
   "source": [
    "lst[1]='Milk'"
   ]
  },
  {
   "cell_type": "code",
   "execution_count": 11,
   "id": "ab2384f8-dccb-44cf-8712-ee4f30a7bbaa",
   "metadata": {},
   "outputs": [
    {
     "data": {
      "text/plain": [
       "['Butter', 'Milk', 'Shaving Cream', 'Flour', 'Vermiciles']"
      ]
     },
     "execution_count": 11,
     "metadata": {},
     "output_type": "execute_result"
    }
   ],
   "source": [
    "lst"
   ]
  },
  {
   "cell_type": "code",
   "execution_count": 12,
   "id": "8e96bae6-84a8-4a94-ae48-eae5b47a429f",
   "metadata": {},
   "outputs": [],
   "source": [
    "lst.append('Tooth Paste')\n"
   ]
  },
  {
   "cell_type": "code",
   "execution_count": 13,
   "id": "6e551d2c-4096-46d8-aaec-0f4ac87f3303",
   "metadata": {},
   "outputs": [
    {
     "data": {
      "text/plain": [
       "['Butter', 'Milk', 'Shaving Cream', 'Flour', 'Vermiciles', 'Tooth Paste']"
      ]
     },
     "execution_count": 13,
     "metadata": {},
     "output_type": "execute_result"
    }
   ],
   "source": [
    "lst"
   ]
  },
  {
   "cell_type": "code",
   "execution_count": 14,
   "id": "32e4cad2-d4df-4f9b-8d30-51f0f3d59e1f",
   "metadata": {},
   "outputs": [],
   "source": [
    "lst.remove('Milk')"
   ]
  },
  {
   "cell_type": "code",
   "execution_count": 15,
   "id": "8f661825-fd27-47a2-a481-1af18d7544f3",
   "metadata": {},
   "outputs": [
    {
     "data": {
      "text/plain": [
       "['Butter', 'Shaving Cream', 'Flour', 'Vermiciles', 'Tooth Paste']"
      ]
     },
     "execution_count": 15,
     "metadata": {},
     "output_type": "execute_result"
    }
   ],
   "source": [
    "lst"
   ]
  },
  {
   "cell_type": "code",
   "execution_count": 16,
   "id": "b95f01c7-1ff1-4cd7-887c-6438be111848",
   "metadata": {},
   "outputs": [
    {
     "data": {
      "text/plain": [
       "'Tooth Paste'"
      ]
     },
     "execution_count": 16,
     "metadata": {},
     "output_type": "execute_result"
    }
   ],
   "source": [
    "lst.pop()"
   ]
  },
  {
   "cell_type": "code",
   "execution_count": 17,
   "id": "d91b3d19-1969-4162-985f-8c77627de3f2",
   "metadata": {},
   "outputs": [
    {
     "data": {
      "text/plain": [
       "['Butter', 'Shaving Cream', 'Flour', 'Vermiciles']"
      ]
     },
     "execution_count": 17,
     "metadata": {},
     "output_type": "execute_result"
    }
   ],
   "source": [
    "lst"
   ]
  },
  {
   "cell_type": "code",
   "execution_count": 18,
   "id": "bfaca127-eeb2-4522-8497-c398209bee7f",
   "metadata": {},
   "outputs": [
    {
     "data": {
      "text/plain": [
       "'Shaving Cream'"
      ]
     },
     "execution_count": 18,
     "metadata": {},
     "output_type": "execute_result"
    }
   ],
   "source": [
    "lst.pop(1)"
   ]
  },
  {
   "cell_type": "code",
   "execution_count": 19,
   "id": "5b5b3168-1d06-4021-a1bc-d36250f4c72b",
   "metadata": {},
   "outputs": [
    {
     "data": {
      "text/plain": [
       "['Butter', 'Flour', 'Vermiciles']"
      ]
     },
     "execution_count": 19,
     "metadata": {},
     "output_type": "execute_result"
    }
   ],
   "source": [
    "lst"
   ]
  },
  {
   "cell_type": "code",
   "execution_count": 20,
   "id": "e6769544-d703-4a19-9ec6-4c8f6cb9f907",
   "metadata": {},
   "outputs": [],
   "source": [
    "lst1=['Blankets','Washing Liquid','Tissues','HomeSpray']"
   ]
  },
  {
   "cell_type": "code",
   "execution_count": 22,
   "id": "aba3afdf-af92-4324-bdb3-5f9f70bbd2aa",
   "metadata": {},
   "outputs": [],
   "source": [
    "lst2=lst+lst1"
   ]
  },
  {
   "cell_type": "code",
   "execution_count": 35,
   "id": "32b75237-4072-40f3-8eaa-69e6a11b984a",
   "metadata": {},
   "outputs": [],
   "source": [
    "lst2.sort()"
   ]
  },
  {
   "cell_type": "code",
   "execution_count": 36,
   "id": "3a42e815-b1ca-4f53-98f6-69f2f4b514a0",
   "metadata": {},
   "outputs": [
    {
     "data": {
      "text/plain": [
       "['Blankets',\n",
       " 'Butter',\n",
       " 'Flour',\n",
       " 'HomeSpray',\n",
       " 'Tissues',\n",
       " 'Vermiciles',\n",
       " 'Washing Liquid']"
      ]
     },
     "execution_count": 36,
     "metadata": {},
     "output_type": "execute_result"
    }
   ],
   "source": [
    "lst2"
   ]
  },
  {
   "cell_type": "code",
   "execution_count": 28,
   "id": "347c6d73-6431-4dcb-8166-0642bd75b83a",
   "metadata": {},
   "outputs": [
    {
     "data": {
      "text/plain": [
       "['Blankets',\n",
       " 'Butter',\n",
       " 'Flour',\n",
       " 'HomeSpray',\n",
       " 'Tissues',\n",
       " 'Vermiciles',\n",
       " 'Washing Liquid']"
      ]
     },
     "execution_count": 28,
     "metadata": {},
     "output_type": "execute_result"
    }
   ],
   "source": [
    "lst4=sorted(lst2)"
   ]
  },
  {
   "cell_type": "code",
   "execution_count": 29,
   "id": "d2f03cb7-9507-4063-b67c-85e7a00af284",
   "metadata": {},
   "outputs": [],
   "source": [
    "lst2.sort()"
   ]
  },
  {
   "cell_type": "code",
   "execution_count": 37,
   "id": "d6fa094f-c6f2-4b09-91f4-f84098dc17dd",
   "metadata": {},
   "outputs": [],
   "source": [
    "lst3=[3,1,2,0,6]\n",
    "lst3.sort(reverse=True)"
   ]
  },
  {
   "cell_type": "code",
   "execution_count": 38,
   "id": "0f2b34af-f63b-43f4-be8a-929576620af0",
   "metadata": {},
   "outputs": [
    {
     "data": {
      "text/plain": [
       "[6, 3, 2, 1, 0]"
      ]
     },
     "execution_count": 38,
     "metadata": {},
     "output_type": "execute_result"
    }
   ],
   "source": [
    "lst3"
   ]
  },
  {
   "cell_type": "code",
   "execution_count": 41,
   "id": "0cabdb6a-447d-4ec7-8d82-2d1a8b7b3b19",
   "metadata": {},
   "outputs": [],
   "source": [
    "stud_names=['Pradeep','Sukanya','Preeti','Akash','Bhanu']\n",
    "stud_names.sort()\n"
   ]
  },
  {
   "cell_type": "code",
   "execution_count": 49,
   "id": "8f7224b5-3f40-4a4e-953e-161742851c65",
   "metadata": {},
   "outputs": [
    {
     "data": {
      "text/plain": [
       "5"
      ]
     },
     "execution_count": 49,
     "metadata": {},
     "output_type": "execute_result"
    }
   ],
   "source": [
    "len(stud_names)"
   ]
  },
  {
   "cell_type": "code",
   "execution_count": 42,
   "id": "7b0d2b76-ce43-43f2-8b60-fa83f40b13a0",
   "metadata": {},
   "outputs": [
    {
     "data": {
      "text/plain": [
       "['Akash', 'Bhanu', 'Pradeep', 'Preeti', 'Sukanya']"
      ]
     },
     "execution_count": 42,
     "metadata": {},
     "output_type": "execute_result"
    }
   ],
   "source": [
    "stud_names"
   ]
  },
  {
   "cell_type": "code",
   "execution_count": 47,
   "id": "71a89673-9d3a-4679-bf52-bfdddcb5aee6",
   "metadata": {},
   "outputs": [
    {
     "name": "stdout",
     "output_type": "stream",
     "text": [
      "<class 'tuple'>\n"
     ]
    }
   ],
   "source": [
    "#Tuples:\n",
    "tup=('apple','mango','Strawberry','apple')\n",
    "print(type(tup))"
   ]
  },
  {
   "cell_type": "code",
   "execution_count": 54,
   "id": "5b32a15a-54e9-4530-8c98-adb95606636e",
   "metadata": {},
   "outputs": [
    {
     "name": "stdout",
     "output_type": "stream",
     "text": [
      "['apple', 'mango', 'Strawberry', 'banana']\n"
     ]
    }
   ],
   "source": [
    "temp=list(tup)\n",
    "#print(type(temp))\n",
    "temp[3]='banana'\n",
    "\n",
    "print(temp)\n",
    "tup=tuple(temp)"
   ]
  },
  {
   "cell_type": "code",
   "execution_count": 55,
   "id": "e66080b6-456f-4378-b5f0-26e967552458",
   "metadata": {},
   "outputs": [
    {
     "data": {
      "text/plain": [
       "('apple', 'mango', 'Strawberry', 'banana')"
      ]
     },
     "execution_count": 55,
     "metadata": {},
     "output_type": "execute_result"
    }
   ],
   "source": [
    "tup"
   ]
  },
  {
   "cell_type": "code",
   "execution_count": null,
   "id": "ddcc96b9-9999-4a77-b539-3e8b8b2db4b9",
   "metadata": {},
   "outputs": [],
   "source": []
  },
  {
   "cell_type": "code",
   "execution_count": 1,
   "id": "eada69fa-4842-4a94-bd56-bf5ccd6d3896",
   "metadata": {},
   "outputs": [
    {
     "name": "stdout",
     "output_type": "stream",
     "text": [
      "{0, True, 'Strawberry', 'apple', 'mango'}\n"
     ]
    }
   ],
   "source": [
    "#Sets\n",
    "set1={0,'apple','mango', False,'Strawberry', 'apple',True,1}\n",
    "\n",
    "print(set1)"
   ]
  },
  {
   "cell_type": "code",
   "execution_count": 65,
   "id": "520b5028-cd04-4a7b-a4b7-3a0f6e81832b",
   "metadata": {},
   "outputs": [
    {
     "data": {
      "text/plain": [
       "5"
      ]
     },
     "execution_count": 65,
     "metadata": {},
     "output_type": "execute_result"
    }
   ],
   "source": [
    "len(set1)"
   ]
  },
  {
   "cell_type": "code",
   "execution_count": 66,
   "id": "d3b39ed9-77d3-47f7-8fb7-7c99c935d037",
   "metadata": {},
   "outputs": [],
   "source": [
    "set1.add(\"Guava\")"
   ]
  },
  {
   "cell_type": "code",
   "execution_count": 67,
   "id": "c911e875-77e0-44d8-bc88-6e42258ec267",
   "metadata": {},
   "outputs": [
    {
     "data": {
      "text/plain": [
       "{0, 'Guava', 'Strawberry', True, 'apple', 'mango'}"
      ]
     },
     "execution_count": 67,
     "metadata": {},
     "output_type": "execute_result"
    }
   ],
   "source": [
    "set1"
   ]
  },
  {
   "cell_type": "code",
   "execution_count": 68,
   "id": "0ca8d218-671c-486c-8581-36c26f5dc4b9",
   "metadata": {},
   "outputs": [],
   "source": [
    "#remove strawberry\n",
    "#add kiwi\n",
    "set1.remove('Strawberry')\n"
   ]
  },
  {
   "cell_type": "code",
   "execution_count": 69,
   "id": "5408ce8b-9a39-4d55-8495-11107ec6afe1",
   "metadata": {},
   "outputs": [
    {
     "data": {
      "text/plain": [
       "{0, 'Guava', True, 'apple', 'mango'}"
      ]
     },
     "execution_count": 69,
     "metadata": {},
     "output_type": "execute_result"
    }
   ],
   "source": [
    "set1"
   ]
  },
  {
   "cell_type": "code",
   "execution_count": 70,
   "id": "8a167b4b-b665-4643-8872-438cfdbc8f26",
   "metadata": {},
   "outputs": [],
   "source": [
    "set1.add('Kiwi')"
   ]
  },
  {
   "cell_type": "code",
   "execution_count": 71,
   "id": "6dafe76f-e6e2-4719-b02a-285125291de4",
   "metadata": {},
   "outputs": [
    {
     "data": {
      "text/plain": [
       "{0, 'Guava', 'Kiwi', True, 'apple', 'mango'}"
      ]
     },
     "execution_count": 71,
     "metadata": {},
     "output_type": "execute_result"
    }
   ],
   "source": [
    "set1"
   ]
  },
  {
   "cell_type": "code",
   "execution_count": 78,
   "id": "af4464f5-821e-4bed-972b-800c66451b31",
   "metadata": {},
   "outputs": [],
   "source": [
    "set1={1,2,3,4}\n",
    "set2={4,5,6,7}"
   ]
  },
  {
   "cell_type": "code",
   "execution_count": 81,
   "id": "f0c21701-191e-4a39-ade7-f1489eb2fa8e",
   "metadata": {},
   "outputs": [
    {
     "name": "stdout",
     "output_type": "stream",
     "text": [
      "{1, 2, 3}\n"
     ]
    }
   ],
   "source": [
    "print(set1.difference(set2))"
   ]
  },
  {
   "cell_type": "code",
   "execution_count": 12,
   "id": "c64013dd-3441-402a-a487-2fb259201ac7",
   "metadata": {},
   "outputs": [],
   "source": [
    "dict1={\"Banana\":\"Yellow\",\"Apple\":\"Red\",\"Strawberry\":\"Pink\"}"
   ]
  },
  {
   "cell_type": "code",
   "execution_count": 13,
   "id": "de97db7e-9397-485c-9eb6-923c8e4035b3",
   "metadata": {},
   "outputs": [
    {
     "name": "stdout",
     "output_type": "stream",
     "text": [
      "<class 'set'>\n"
     ]
    }
   ],
   "source": [
    "print(type(set1))"
   ]
  },
  {
   "cell_type": "code",
   "execution_count": 14,
   "id": "b66c01bf-82d1-4bf6-bef4-79415f70aa64",
   "metadata": {},
   "outputs": [
    {
     "name": "stdout",
     "output_type": "stream",
     "text": [
      "{'Banana': 'Yellow', 'Apple': 'Red', 'Strawberry': 'Pink'}\n"
     ]
    }
   ],
   "source": [
    "print(dict1)"
   ]
  },
  {
   "cell_type": "code",
   "execution_count": 6,
   "id": "0713ab6b-47f8-476a-a6c3-43273090c39f",
   "metadata": {},
   "outputs": [
    {
     "name": "stdout",
     "output_type": "stream",
     "text": [
      "Red\n"
     ]
    }
   ],
   "source": [
    "print(dict1[\"Apple\"])"
   ]
  },
  {
   "cell_type": "code",
   "execution_count": 15,
   "id": "f10a54cc-c653-4d13-a7fd-5580944952f9",
   "metadata": {},
   "outputs": [],
   "source": [
    "dict1['Apple']=\"Green\""
   ]
  },
  {
   "cell_type": "code",
   "execution_count": 17,
   "id": "1ba0a94e-bd95-49a7-b772-034bb7609e38",
   "metadata": {},
   "outputs": [
    {
     "data": {
      "text/plain": [
       "'Yellow'"
      ]
     },
     "execution_count": 17,
     "metadata": {},
     "output_type": "execute_result"
    }
   ],
   "source": [
    "dict1.pop('Banana')"
   ]
  },
  {
   "cell_type": "code",
   "execution_count": 18,
   "id": "95d0431b-86a8-4503-8342-55ac06d22cbb",
   "metadata": {},
   "outputs": [
    {
     "data": {
      "text/plain": [
       "{'Apple': 'Green', 'Strawberry': 'Pink'}"
      ]
     },
     "execution_count": 18,
     "metadata": {},
     "output_type": "execute_result"
    }
   ],
   "source": [
    "dict1"
   ]
  },
  {
   "cell_type": "code",
   "execution_count": 21,
   "id": "6f94c635-3e91-445c-af50-121575208dc1",
   "metadata": {},
   "outputs": [
    {
     "name": "stdin",
     "output_type": "stream",
     "text": [
      "Enter Your Age : 11\n"
     ]
    },
    {
     "name": "stdout",
     "output_type": "stream",
     "text": [
      "Not Eligible to Vote\n",
      "You are a Child\n"
     ]
    }
   ],
   "source": [
    "#Conditional Statements:\n",
    "\n",
    "age=int(input('Enter Your Age :'))\n",
    "\n",
    "if age<18:\n",
    "    print('Not Eligible to Vote')\n",
    "    print('You are a Child')\n",
    "else:\n",
    "    print('Eligible to Vote')\n",
    "    print('You are an Adult')"
   ]
  },
  {
   "cell_type": "code",
   "execution_count": 29,
   "id": "ef3d8002-a3e4-43b9-9c6b-03ced0d40d22",
   "metadata": {},
   "outputs": [
    {
     "name": "stdin",
     "output_type": "stream",
     "text": [
      "Enter Your Age : 16\n"
     ]
    },
    {
     "name": "stdout",
     "output_type": "stream",
     "text": [
      "They are in School\n",
      "Teens\n"
     ]
    }
   ],
   "source": [
    "age=int(input('Enter Your Age :'))\n",
    "if age<0:\n",
    "    print('Please input a valid age')\n",
    "elif age>=0 and age<18:\n",
    "    print('They are in School')\n",
    "    if age>=0 and age<=14:\n",
    "        print('Child')\n",
    "    else:\n",
    "        print('Teens')\n",
    "elif age>=18 and age<58:\n",
    "    print('Adult')\n",
    "else:\n",
    "    print('Senior Citizen')"
   ]
  },
  {
   "cell_type": "code",
   "execution_count": 59,
   "id": "bc5db2e5-1c46-44d4-a30a-02fe032642c1",
   "metadata": {},
   "outputs": [
    {
     "name": "stdout",
     "output_type": "stream",
     "text": [
      "1 One\n",
      "2 Two\n",
      "3 Three\n"
     ]
    }
   ],
   "source": [
    "dict1={1:\"One\",2:\"Two\",3:\"Three\"}\n",
    "for key in dict1:\n",
    "    print(key,dict1[key])"
   ]
  },
  {
   "cell_type": "code",
   "execution_count": 54,
   "id": "8ca10e5c-c9b6-4c14-b817-6c9b9b0fb2e2",
   "metadata": {},
   "outputs": [
    {
     "data": {
      "text/plain": [
       "{1: 'One', 2: 'Two', 3: 'Three'}"
      ]
     },
     "execution_count": 54,
     "metadata": {},
     "output_type": "execute_result"
    }
   ],
   "source": [
    "dict1"
   ]
  },
  {
   "cell_type": "code",
   "execution_count": 1,
   "id": "d799ddaf-3ccd-4ebe-90ba-9778038147a9",
   "metadata": {},
   "outputs": [
    {
     "name": "stdout",
     "output_type": "stream",
     "text": [
      "1\n",
      "3\n",
      "5\n",
      "7\n",
      "9\n"
     ]
    }
   ],
   "source": [
    "#While :\n",
    "for i in range(1,10,2):\n",
    "    print(i)"
   ]
  },
  {
   "cell_type": "code",
   "execution_count": 2,
   "id": "50daa634-6880-461b-9973-a66a23e74c00",
   "metadata": {},
   "outputs": [
    {
     "name": "stdout",
     "output_type": "stream",
     "text": [
      "1\n",
      "3\n",
      "5\n",
      "7\n",
      "9\n"
     ]
    }
   ],
   "source": [
    "i=1\n",
    "while i<10:\n",
    "    print(i)\n",
    "    i=i+2\n"
   ]
  },
  {
   "cell_type": "code",
   "execution_count": 9,
   "id": "663f515d-c8fd-44bb-850e-daaeaf9408d4",
   "metadata": {},
   "outputs": [
    {
     "name": "stdout",
     "output_type": "stream",
     "text": [
      "1\n",
      "2\n"
     ]
    }
   ],
   "source": [
    "#Break\n",
    "i=0\n",
    "while i<10:\n",
    "    i+=1\n",
    "    if i==3:\n",
    "        break\n",
    "    print(i)"
   ]
  },
  {
   "cell_type": "code",
   "execution_count": 13,
   "id": "2ba42408-5eb3-42cc-ba99-41058c0da3bd",
   "metadata": {},
   "outputs": [
    {
     "name": "stdout",
     "output_type": "stream",
     "text": [
      "1\n",
      "2\n",
      "3\n",
      "4\n",
      "5\n",
      "6\n",
      "7\n",
      "8\n",
      "9\n",
      "10\n"
     ]
    }
   ],
   "source": [
    "#Continue\n",
    "\n",
    "i=0\n",
    "while i<10:\n",
    "    i+=1\n",
    "    if i==3:\n",
    "        pass\n",
    "    print(i)"
   ]
  },
  {
   "cell_type": "code",
   "execution_count": 14,
   "id": "d6629e7c-bca0-442b-8747-f9a1aee211dd",
   "metadata": {},
   "outputs": [
    {
     "name": "stdin",
     "output_type": "stream",
     "text": [
      "Enter the Length : 2\n",
      "Enter the Width 3\n"
     ]
    },
    {
     "name": "stdout",
     "output_type": "stream",
     "text": [
      "10\n"
     ]
    }
   ],
   "source": [
    "#Functions :\n",
    "\n",
    "length=int(input('Enter the Length :'))\n",
    "width=int(input(\"Enter the Width\"))\n",
    "\n",
    "perimeter=2*(length+width)\n",
    "\n",
    "print(perimeter)"
   ]
  },
  {
   "cell_type": "code",
   "execution_count": 31,
   "id": "e455c9ac-4912-45b3-ae2f-1cd8ae9a462e",
   "metadata": {},
   "outputs": [],
   "source": [
    "def calculatePerimeter():\n",
    "    length=int(input())\n",
    "    width=int(input())\n",
    "    perimeter=2*(length+width)\n",
    "    return perimeter\n",
    "    \n",
    "    "
   ]
  },
  {
   "cell_type": "code",
   "execution_count": 32,
   "id": "020cfef8-2bb7-4506-8d60-b352694c0903",
   "metadata": {},
   "outputs": [
    {
     "name": "stdin",
     "output_type": "stream",
     "text": [
      " 3\n",
      " 4\n"
     ]
    },
    {
     "name": "stdout",
     "output_type": "stream",
     "text": [
      "Perimeter of 10 rectangles is  140\n"
     ]
    }
   ],
   "source": [
    "temp=calculatePerimeter()\n",
    "print(\"Perimeter of 10 rectangles is \",temp*10)"
   ]
  },
  {
   "cell_type": "code",
   "execution_count": 67,
   "id": "d55afd3c-0bef-45d6-90f2-ea12ac617ff7",
   "metadata": {},
   "outputs": [],
   "source": [
    "def sayhello(name=\"Revanth Reddy\",age=48):\n",
    "    print(\"Hello \",name,\" Your age is \",age)"
   ]
  },
  {
   "cell_type": "code",
   "execution_count": 70,
   "id": "3a6c6c23-ac78-4cd4-88e0-2a93b189c98d",
   "metadata": {},
   "outputs": [
    {
     "name": "stdout",
     "output_type": "stream",
     "text": [
      "Hello  Vamshi  Your age is  21\n"
     ]
    }
   ],
   "source": [
    "sayhello(\"Vamshi\",21)"
   ]
  },
  {
   "cell_type": "code",
   "execution_count": 4,
   "id": "e2a1f363-f583-4bb8-88f7-dad59a235b4c",
   "metadata": {},
   "outputs": [],
   "source": [
    "#Lambda Functions or Anonymous Functions:\n",
    "\n",
    "perimeter=lambda length,width,height: length*width*height"
   ]
  },
  {
   "cell_type": "code",
   "execution_count": 5,
   "id": "b80565a3-6892-46d5-901a-afdab3093ae2",
   "metadata": {},
   "outputs": [
    {
     "data": {
      "text/plain": [
       "24"
      ]
     },
     "execution_count": 5,
     "metadata": {},
     "output_type": "execute_result"
    }
   ],
   "source": [
    "perimeter(2,3,4)"
   ]
  },
  {
   "cell_type": "code",
   "execution_count": 42,
   "id": "62734767-b22a-4367-993c-105cd10f1ef0",
   "metadata": {},
   "outputs": [],
   "source": [
    "#Classes \n"
   ]
  },
  {
   "cell_type": "code",
   "execution_count": 61,
   "id": "a01cd5e7-65fc-4158-bf39-e51de70a9a5c",
   "metadata": {},
   "outputs": [],
   "source": [
    "#Class is a blueprint to create objects\n",
    "#Object is an instance of Class\n",
    "\n",
    "#Creating a class\n",
    "class Car:\n",
    "    def __init__(self,carmodel,speed=0):\n",
    "        self.speed=speed\n",
    "        self.modelofcar=carmodel\n",
    "    def move(self):\n",
    "        print('Moving at speed of ',self.speed,'Model of car is ',self.modelofcar)\n",
    "    def stop(self):\n",
    "        print('Stopped..')\n",
    "    def accelarate(self):\n",
    "        print('Accelarating and speed is at',self.speed)"
   ]
  },
  {
   "cell_type": "code",
   "execution_count": 62,
   "id": "60daf3a0-de14-43cc-8053-daed9965cd9b",
   "metadata": {},
   "outputs": [],
   "source": [
    "#Creating an Object\n",
    "#AC and headlight is turned on automatically\n",
    "\n",
    "# Constructor : The function which will be invoked/executed automatically when an class is intiated/object is created\n",
    "c=Car(\"Audi A5\")"
   ]
  },
  {
   "cell_type": "code",
   "execution_count": 63,
   "id": "a81e815b-7b63-4578-9eaf-a2076b893550",
   "metadata": {},
   "outputs": [
    {
     "name": "stdout",
     "output_type": "stream",
     "text": [
      "Moving at speed of  0 Model of car is  Audi A5\n"
     ]
    }
   ],
   "source": [
    "#Invoking/Calling a function of class using object\n",
    "c.move()"
   ]
  },
  {
   "cell_type": "code",
   "execution_count": 64,
   "id": "55efdb94-0f90-480f-879e-abe8d23eff53",
   "metadata": {},
   "outputs": [
    {
     "name": "stdout",
     "output_type": "stream",
     "text": [
      "Accelarating and speed is at 0\n"
     ]
    }
   ],
   "source": [
    "#Constructors\n",
    "c.accelarate()"
   ]
  },
  {
   "cell_type": "code",
   "execution_count": 65,
   "id": "007cbbcb-0f47-4e74-bb81-939cd2981361",
   "metadata": {},
   "outputs": [],
   "source": [
    "bmw=Car(\"BMW\",40)"
   ]
  },
  {
   "cell_type": "code",
   "execution_count": 66,
   "id": "b258ba3f-241e-491e-8a3e-91f31f80f2f7",
   "metadata": {},
   "outputs": [
    {
     "name": "stdout",
     "output_type": "stream",
     "text": [
      "Moving at speed of  40 Model of car is  BMW\n"
     ]
    }
   ],
   "source": [
    "bmw.move()"
   ]
  },
  {
   "cell_type": "code",
   "execution_count": 79,
   "id": "3ca7476f-5228-46d5-adb0-84b5b4c2869c",
   "metadata": {},
   "outputs": [],
   "source": [
    "#Inheritance :\n",
    "\n",
    "#Parent Class\n",
    "class Vehicle:\n",
    "    def move(self):\n",
    "        print('Moving...')\n",
    "    def stop(self):\n",
    "        print('Stopped...')\n",
    "\n",
    "#Child Class\n",
    "class Car(Vehicle):\n",
    "    def fourwheels(self):\n",
    "        print('I have 4 wheels')\n",
    "\n",
    "class Bike(Vehicle):\n",
    "    def twowheels(self):\n",
    "        print('I have 2 wheels')"
   ]
  },
  {
   "cell_type": "code",
   "execution_count": 80,
   "id": "edf6e458-c902-4087-ba98-faead8689ee2",
   "metadata": {},
   "outputs": [
    {
     "name": "stdout",
     "output_type": "stream",
     "text": [
      "Moving...\n"
     ]
    }
   ],
   "source": [
    "v=Vehicle()\n",
    "v.move()"
   ]
  },
  {
   "cell_type": "code",
   "execution_count": 82,
   "id": "0eeeb3b0-9f61-4db9-8d53-f359b72b85d8",
   "metadata": {},
   "outputs": [
    {
     "name": "stdout",
     "output_type": "stream",
     "text": [
      "I have 4 wheels\n",
      "Moving...\n",
      "Stopped...\n"
     ]
    }
   ],
   "source": [
    "c=Car()\n",
    "c.fourwheels()\n",
    "c.move()\n",
    "c.stop()"
   ]
  },
  {
   "cell_type": "code",
   "execution_count": 83,
   "id": "e4db54e3-c26b-475d-8532-511bc70b53e9",
   "metadata": {},
   "outputs": [
    {
     "name": "stdout",
     "output_type": "stream",
     "text": [
      "I have 2 wheels\n",
      "Moving...\n",
      "Stopped...\n"
     ]
    }
   ],
   "source": [
    "b=Bike()\n",
    "b.twowheels()\n",
    "b.move()\n",
    "b.stop()"
   ]
  },
  {
   "cell_type": "code",
   "execution_count": null,
   "id": "15e27c74-a259-4682-936b-7f756c4358c8",
   "metadata": {},
   "outputs": [],
   "source": []
  }
 ],
 "metadata": {
  "kernelspec": {
   "display_name": "Python 3 (ipykernel)",
   "language": "python",
   "name": "python3"
  },
  "language_info": {
   "codemirror_mode": {
    "name": "ipython",
    "version": 3
   },
   "file_extension": ".py",
   "mimetype": "text/x-python",
   "name": "python",
   "nbconvert_exporter": "python",
   "pygments_lexer": "ipython3",
   "version": "3.12.7"
  }
 },
 "nbformat": 4,
 "nbformat_minor": 5
}
