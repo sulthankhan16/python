{
 "cells": [
  {
   "cell_type": "code",
   "execution_count": 3,
   "id": "8cfe08d1-2b47-4975-90db-df495f41bd09",
   "metadata": {},
   "outputs": [],
   "source": [
    "sname='Pradeep'\n",
    "age=23\n",
    "#print('{} Age is {}'.format(sname,age))"
   ]
  },
  {
   "cell_type": "code",
   "execution_count": 9,
   "id": "e0e0d620-45be-419c-93bc-8b7973f2ed52",
   "metadata": {},
   "outputs": [
    {
     "name": "stdout",
     "output_type": "stream",
     "text": [
      "Pradeep My name is 23\n"
     ]
    }
   ],
   "source": [
    "print('{} My name is {}'.format(sname,age))"
   ]
  },
  {
   "cell_type": "code",
   "execution_count": 44,
   "id": "bee382aa-726a-447b-bba7-4046cd1d2b02",
   "metadata": {},
   "outputs": [],
   "source": [
    "salary=True"
   ]
  },
  {
   "cell_type": "code",
   "execution_count": 38,
   "id": "20c87969-b930-4e8a-b01a-d0a25ec3f192",
   "metadata": {},
   "outputs": [
    {
     "name": "stdout",
     "output_type": "stream",
     "text": [
      "Azs\n"
     ]
    }
   ],
   "source": [
    "cname='Amazons'\n",
    "print(cname[0:7:3])"
   ]
  },
  {
   "cell_type": "code",
   "execution_count": 45,
   "id": "36d78994-5e77-4704-b438-27d97015ff2d",
   "metadata": {},
   "outputs": [
    {
     "name": "stdout",
     "output_type": "stream",
     "text": [
      "<class 'bool'>\n"
     ]
    }
   ],
   "source": [
    "print(type(salary))"
   ]
  },
  {
   "cell_type": "code",
   "execution_count": 60,
   "id": "c2170b6b-a7c2-4e31-a252-fab14b40d45e",
   "metadata": {},
   "outputs": [
    {
     "name": "stdout",
     "output_type": "stream",
     "text": [
      "4\n"
     ]
    }
   ],
   "source": [
    "#TypeError SOlved\n",
    "x=2\n",
    "y='2'\n",
    "y=int(y)\n",
    "print(x+y)"
   ]
  },
  {
   "cell_type": "code",
   "execution_count": 50,
   "id": "d13f6a0d-c209-431b-b19d-f34d1812a593",
   "metadata": {},
   "outputs": [
    {
     "name": "stdout",
     "output_type": "stream",
     "text": [
      "Hello\n"
     ]
    }
   ],
   "source": [
    "'''\n",
    "This\n",
    "is\n",
    "multi\n",
    "line\n",
    "comment\n",
    "'''\n",
    "print('Hello')"
   ]
  },
  {
   "cell_type": "code",
   "execution_count": 65,
   "id": "9a18cba6-7896-4d47-bcd7-bec2dfe24201",
   "metadata": {},
   "outputs": [
    {
     "name": "stdin",
     "output_type": "stream",
     "text": [
      "Enter your age : 34.5\n"
     ]
    },
    {
     "name": "stdout",
     "output_type": "stream",
     "text": [
      "My age is 34.5\n",
      "<class 'float'>\n"
     ]
    }
   ],
   "source": [
    "age=int(input()) #Default format is String\n",
    "print('My age is',age)\n",
    "print(type(age))"
   ]
  },
  {
   "cell_type": "code",
   "execution_count": 56,
   "id": "c02b7601-0d58-4fc4-b904-5f5cee59081c",
   "metadata": {},
   "outputs": [
    {
     "name": "stdout",
     "output_type": "stream",
     "text": [
      "<class 'int'>\n"
     ]
    }
   ],
   "source": [
    "age=int('56')\n",
    "age1=int(age)"
   ]
  },
  {
   "cell_type": "code",
   "execution_count": 8,
   "id": "99fc2d1f-9099-4039-beb0-8366ed7209f6",
   "metadata": {},
   "outputs": [
    {
     "name": "stdout",
     "output_type": "stream",
     "text": [
      "snozamA\n"
     ]
    }
   ],
   "source": [
    "cname='Amazons'\n",
    "print(cname[::-1])"
   ]
  },
  {
   "cell_type": "code",
   "execution_count": 9,
   "id": "6fcab955-00e6-4de1-b5c5-72c9e79585b2",
   "metadata": {},
   "outputs": [
    {
     "name": "stdout",
     "output_type": "stream",
     "text": [
      "['Vermiciles', 'Flour', 'Shaving Cream', 'Bread', 'Butter']\n"
     ]
    }
   ],
   "source": [
    "#Data Structures\n",
    "\n",
    "#List :\n",
    "lst=['Butter','Bread','Shaving Cream','Flour','Vermiciles']\n",
    "#Reverse List\n",
    "print(lst[::-1])\n"
   ]
  },
  {
   "cell_type": "code",
   "execution_count": 10,
   "id": "28610891-9a6a-46ed-9538-f1ecef9fff9f",
   "metadata": {},
   "outputs": [],
   "source": [
    "lst[1]='Milk'"
   ]
  },
  {
   "cell_type": "code",
   "execution_count": 11,
   "id": "ab2384f8-dccb-44cf-8712-ee4f30a7bbaa",
   "metadata": {},
   "outputs": [
    {
     "data": {
      "text/plain": [
       "['Butter', 'Milk', 'Shaving Cream', 'Flour', 'Vermiciles']"
      ]
     },
     "execution_count": 11,
     "metadata": {},
     "output_type": "execute_result"
    }
   ],
   "source": [
    "lst"
   ]
  },
  {
   "cell_type": "code",
   "execution_count": 12,
   "id": "8e96bae6-84a8-4a94-ae48-eae5b47a429f",
   "metadata": {},
   "outputs": [],
   "source": [
    "lst.append('Tooth Paste')\n"
   ]
  },
  {
   "cell_type": "code",
   "execution_count": 13,
   "id": "6e551d2c-4096-46d8-aaec-0f4ac87f3303",
   "metadata": {},
   "outputs": [
    {
     "data": {
      "text/plain": [
       "['Butter', 'Milk', 'Shaving Cream', 'Flour', 'Vermiciles', 'Tooth Paste']"
      ]
     },
     "execution_count": 13,
     "metadata": {},
     "output_type": "execute_result"
    }
   ],
   "source": [
    "lst"
   ]
  },
  {
   "cell_type": "code",
   "execution_count": 14,
   "id": "32e4cad2-d4df-4f9b-8d30-51f0f3d59e1f",
   "metadata": {},
   "outputs": [],
   "source": [
    "lst.remove('Milk')"
   ]
  },
  {
   "cell_type": "code",
   "execution_count": 15,
   "id": "8f661825-fd27-47a2-a481-1af18d7544f3",
   "metadata": {},
   "outputs": [
    {
     "data": {
      "text/plain": [
       "['Butter', 'Shaving Cream', 'Flour', 'Vermiciles', 'Tooth Paste']"
      ]
     },
     "execution_count": 15,
     "metadata": {},
     "output_type": "execute_result"
    }
   ],
   "source": [
    "lst"
   ]
  },
  {
   "cell_type": "code",
   "execution_count": 16,
   "id": "b95f01c7-1ff1-4cd7-887c-6438be111848",
   "metadata": {},
   "outputs": [
    {
     "data": {
      "text/plain": [
       "'Tooth Paste'"
      ]
     },
     "execution_count": 16,
     "metadata": {},
     "output_type": "execute_result"
    }
   ],
   "source": [
    "lst.pop()"
   ]
  },
  {
   "cell_type": "code",
   "execution_count": 17,
   "id": "d91b3d19-1969-4162-985f-8c77627de3f2",
   "metadata": {},
   "outputs": [
    {
     "data": {
      "text/plain": [
       "['Butter', 'Shaving Cream', 'Flour', 'Vermiciles']"
      ]
     },
     "execution_count": 17,
     "metadata": {},
     "output_type": "execute_result"
    }
   ],
   "source": [
    "lst"
   ]
  },
  {
   "cell_type": "code",
   "execution_count": 18,
   "id": "bfaca127-eeb2-4522-8497-c398209bee7f",
   "metadata": {},
   "outputs": [
    {
     "data": {
      "text/plain": [
       "'Shaving Cream'"
      ]
     },
     "execution_count": 18,
     "metadata": {},
     "output_type": "execute_result"
    }
   ],
   "source": [
    "lst.pop(1)"
   ]
  },
  {
   "cell_type": "code",
   "execution_count": 19,
   "id": "5b5b3168-1d06-4021-a1bc-d36250f4c72b",
   "metadata": {},
   "outputs": [
    {
     "data": {
      "text/plain": [
       "['Butter', 'Flour', 'Vermiciles']"
      ]
     },
     "execution_count": 19,
     "metadata": {},
     "output_type": "execute_result"
    }
   ],
   "source": [
    "lst"
   ]
  },
  {
   "cell_type": "code",
   "execution_count": 20,
   "id": "e6769544-d703-4a19-9ec6-4c8f6cb9f907",
   "metadata": {},
   "outputs": [],
   "source": [
    "lst1=['Blankets','Washing Liquid','Tissues','HomeSpray']"
   ]
  },
  {
   "cell_type": "code",
   "execution_count": 22,
   "id": "aba3afdf-af92-4324-bdb3-5f9f70bbd2aa",
   "metadata": {},
   "outputs": [],
   "source": [
    "lst2=lst+lst1"
   ]
  },
  {
   "cell_type": "code",
   "execution_count": 35,
   "id": "32b75237-4072-40f3-8eaa-69e6a11b984a",
   "metadata": {},
   "outputs": [],
   "source": [
    "lst2.sort()"
   ]
  },
  {
   "cell_type": "code",
   "execution_count": 36,
   "id": "3a42e815-b1ca-4f53-98f6-69f2f4b514a0",
   "metadata": {},
   "outputs": [
    {
     "data": {
      "text/plain": [
       "['Blankets',\n",
       " 'Butter',\n",
       " 'Flour',\n",
       " 'HomeSpray',\n",
       " 'Tissues',\n",
       " 'Vermiciles',\n",
       " 'Washing Liquid']"
      ]
     },
     "execution_count": 36,
     "metadata": {},
     "output_type": "execute_result"
    }
   ],
   "source": [
    "lst2"
   ]
  },
  {
   "cell_type": "code",
   "execution_count": 28,
   "id": "347c6d73-6431-4dcb-8166-0642bd75b83a",
   "metadata": {},
   "outputs": [
    {
     "data": {
      "text/plain": [
       "['Blankets',\n",
       " 'Butter',\n",
       " 'Flour',\n",
       " 'HomeSpray',\n",
       " 'Tissues',\n",
       " 'Vermiciles',\n",
       " 'Washing Liquid']"
      ]
     },
     "execution_count": 28,
     "metadata": {},
     "output_type": "execute_result"
    }
   ],
   "source": [
    "lst4=sorted(lst2)"
   ]
  },
  {
   "cell_type": "code",
   "execution_count": 29,
   "id": "d2f03cb7-9507-4063-b67c-85e7a00af284",
   "metadata": {},
   "outputs": [],
   "source": [
    "lst2.sort()"
   ]
  },
  {
   "cell_type": "code",
   "execution_count": 37,
   "id": "d6fa094f-c6f2-4b09-91f4-f84098dc17dd",
   "metadata": {},
   "outputs": [],
   "source": [
    "lst3=[3,1,2,0,6]\n",
    "lst3.sort(reverse=True)"
   ]
  },
  {
   "cell_type": "code",
   "execution_count": 38,
   "id": "0f2b34af-f63b-43f4-be8a-929576620af0",
   "metadata": {},
   "outputs": [
    {
     "data": {
      "text/plain": [
       "[6, 3, 2, 1, 0]"
      ]
     },
     "execution_count": 38,
     "metadata": {},
     "output_type": "execute_result"
    }
   ],
   "source": [
    "lst3"
   ]
  },
  {
   "cell_type": "code",
   "execution_count": 41,
   "id": "0cabdb6a-447d-4ec7-8d82-2d1a8b7b3b19",
   "metadata": {},
   "outputs": [],
   "source": [
    "stud_names=['Pradeep','Sukanya','Preeti','Akash','Bhanu']\n",
    "stud_names.sort()\n"
   ]
  },
  {
   "cell_type": "code",
   "execution_count": 49,
   "id": "8f7224b5-3f40-4a4e-953e-161742851c65",
   "metadata": {},
   "outputs": [
    {
     "data": {
      "text/plain": [
       "5"
      ]
     },
     "execution_count": 49,
     "metadata": {},
     "output_type": "execute_result"
    }
   ],
   "source": [
    "len(stud_names)"
   ]
  },
  {
   "cell_type": "code",
   "execution_count": 42,
   "id": "7b0d2b76-ce43-43f2-8b60-fa83f40b13a0",
   "metadata": {},
   "outputs": [
    {
     "data": {
      "text/plain": [
       "['Akash', 'Bhanu', 'Pradeep', 'Preeti', 'Sukanya']"
      ]
     },
     "execution_count": 42,
     "metadata": {},
     "output_type": "execute_result"
    }
   ],
   "source": [
    "stud_names"
   ]
  },
  {
   "cell_type": "code",
   "execution_count": 47,
   "id": "71a89673-9d3a-4679-bf52-bfdddcb5aee6",
   "metadata": {},
   "outputs": [
    {
     "name": "stdout",
     "output_type": "stream",
     "text": [
      "<class 'tuple'>\n"
     ]
    }
   ],
   "source": [
    "#Tuples:\n",
    "tup=('apple','mango','Strawberry','apple')\n",
    "print(type(tup))"
   ]
  },
  {
   "cell_type": "code",
   "execution_count": 54,
   "id": "5b32a15a-54e9-4530-8c98-adb95606636e",
   "metadata": {},
   "outputs": [
    {
     "name": "stdout",
     "output_type": "stream",
     "text": [
      "['apple', 'mango', 'Strawberry', 'banana']\n"
     ]
    }
   ],
   "source": [
    "temp=list(tup)\n",
    "#print(type(temp))\n",
    "temp[3]='banana'\n",
    "\n",
    "print(temp)\n",
    "tup=tuple(temp)"
   ]
  },
  {
   "cell_type": "code",
   "execution_count": 55,
   "id": "e66080b6-456f-4378-b5f0-26e967552458",
   "metadata": {},
   "outputs": [
    {
     "data": {
      "text/plain": [
       "('apple', 'mango', 'Strawberry', 'banana')"
      ]
     },
     "execution_count": 55,
     "metadata": {},
     "output_type": "execute_result"
    }
   ],
   "source": [
    "tup"
   ]
  },
  {
   "cell_type": "code",
   "execution_count": null,
   "id": "ddcc96b9-9999-4a77-b539-3e8b8b2db4b9",
   "metadata": {},
   "outputs": [],
   "source": []
  },
  {
   "cell_type": "code",
   "execution_count": 64,
   "id": "eada69fa-4842-4a94-bd56-bf5ccd6d3896",
   "metadata": {},
   "outputs": [
    {
     "name": "stdout",
     "output_type": "stream",
     "text": [
      "{0, True, 'mango', 'apple', 'Strawberry'}\n"
     ]
    }
   ],
   "source": [
    "#Sets\n",
    "set1={0,'apple','mango', False,'Strawberry', 'apple',True,1}\n",
    "\n",
    "print(set1)"
   ]
  },
  {
   "cell_type": "code",
   "execution_count": 65,
   "id": "520b5028-cd04-4a7b-a4b7-3a0f6e81832b",
   "metadata": {},
   "outputs": [
    {
     "data": {
      "text/plain": [
       "5"
      ]
     },
     "execution_count": 65,
     "metadata": {},
     "output_type": "execute_result"
    }
   ],
   "source": [
    "len(set1)"
   ]
  },
  {
   "cell_type": "code",
   "execution_count": 66,
   "id": "d3b39ed9-77d3-47f7-8fb7-7c99c935d037",
   "metadata": {},
   "outputs": [],
   "source": [
    "set1.add(\"Guava\")"
   ]
  },
  {
   "cell_type": "code",
   "execution_count": 67,
   "id": "c911e875-77e0-44d8-bc88-6e42258ec267",
   "metadata": {},
   "outputs": [
    {
     "data": {
      "text/plain": [
       "{0, 'Guava', 'Strawberry', True, 'apple', 'mango'}"
      ]
     },
     "execution_count": 67,
     "metadata": {},
     "output_type": "execute_result"
    }
   ],
   "source": [
    "set1"
   ]
  },
  {
   "cell_type": "code",
   "execution_count": 68,
   "id": "0ca8d218-671c-486c-8581-36c26f5dc4b9",
   "metadata": {},
   "outputs": [],
   "source": [
    "#remove strawberry\n",
    "#add kiwi\n",
    "set1.remove('Strawberry')\n"
   ]
  },
  {
   "cell_type": "code",
   "execution_count": 69,
   "id": "5408ce8b-9a39-4d55-8495-11107ec6afe1",
   "metadata": {},
   "outputs": [
    {
     "data": {
      "text/plain": [
       "{0, 'Guava', True, 'apple', 'mango'}"
      ]
     },
     "execution_count": 69,
     "metadata": {},
     "output_type": "execute_result"
    }
   ],
   "source": [
    "set1"
   ]
  },
  {
   "cell_type": "code",
   "execution_count": 70,
   "id": "8a167b4b-b665-4643-8872-438cfdbc8f26",
   "metadata": {},
   "outputs": [],
   "source": [
    "set1.add('Kiwi')"
   ]
  },
  {
   "cell_type": "code",
   "execution_count": 71,
   "id": "6dafe76f-e6e2-4719-b02a-285125291de4",
   "metadata": {},
   "outputs": [
    {
     "data": {
      "text/plain": [
       "{0, 'Guava', 'Kiwi', True, 'apple', 'mango'}"
      ]
     },
     "execution_count": 71,
     "metadata": {},
     "output_type": "execute_result"
    }
   ],
   "source": [
    "set1"
   ]
  },
  {
   "cell_type": "code",
   "execution_count": 78,
   "id": "af4464f5-821e-4bed-972b-800c66451b31",
   "metadata": {},
   "outputs": [],
   "source": [
    "set1={1,2,3,4}\n",
    "set2={4,5,6,7}"
   ]
  },
  {
   "cell_type": "code",
   "execution_count": 81,
   "id": "f0c21701-191e-4a39-ade7-f1489eb2fa8e",
   "metadata": {},
   "outputs": [
    {
     "name": "stdout",
     "output_type": "stream",
     "text": [
      "{1, 2, 3}\n"
     ]
    }
   ],
   "source": [
    "print(set1.difference(set2))"
   ]
  },
  {
   "cell_type": "code",
   "execution_count": null,
   "id": "c64013dd-3441-402a-a487-2fb259201ac7",
   "metadata": {},
   "outputs": [],
   "source": []
  }
 ],
 "metadata": {
  "kernelspec": {
   "display_name": "Python 3 (ipykernel)",
   "language": "python",
   "name": "python3"
  },
  "language_info": {
   "codemirror_mode": {
    "name": "ipython",
    "version": 3
   },
   "file_extension": ".py",
   "mimetype": "text/x-python",
   "name": "python",
   "nbconvert_exporter": "python",
   "pygments_lexer": "ipython3",
   "version": "3.12.6"
  }
 },
 "nbformat": 4,
 "nbformat_minor": 5
}
